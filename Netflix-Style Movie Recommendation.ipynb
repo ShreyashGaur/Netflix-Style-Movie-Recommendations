{
 "cells": [
  {
   "cell_type": "markdown",
   "id": "6b92c651-f4a4-4c8b-b45a-72f1fe52ce47",
   "metadata": {},
   "source": [
    "# Content Based Filtering >"
   ]
  },
  {
   "cell_type": "code",
   "execution_count": 39,
   "id": "02596229-1511-4902-8e94-36cc668712b4",
   "metadata": {},
   "outputs": [
    {
     "name": "stdout",
     "output_type": "stream",
     "text": [
      "10          La La Land 11\n",
      "27             Titanic 28\n",
      "74     The Dark Knight 75\n",
      "136        Fight Club 137\n",
      "160          Parasite 161\n",
      "Name: Movie Title, dtype: object\n"
     ]
    }
   ],
   "source": [
    "import pandas as pd\n",
    "from sklearn.feature_extraction.text import TfidfVectorizer\n",
    "from sklearn.metrics.pairwise import linear_kernel\n",
    "\n",
    "# Load dataset\n",
    "movies = pd.read_csv(\"C:/Users/OM/Downloads/CSV Data/Movies Data.csv\")\n",
    "\n",
    "movies.head()\n",
    "\n",
    "# Fill NaN and combine features\n",
    "movies['combined_features'] = movies['Genres'].fillna('') + \" \" + movies['Description'].fillna('')\n",
    "\n",
    "# Convert text to TF-IDF matrix\n",
    "tfidf = TfidfVectorizer(stop_words='english')\n",
    "tfidf_matrix = tfidf.fit_transform(movies['combined_features'])\n",
    "\n",
    "# Compute cosine similarity\n",
    "cosine_sim = linear_kernel(tfidf_matrix, tfidf_matrix)\n",
    "\n",
    "# Recommendation function\n",
    "def recommend(movie_title, cosine_sim=cosine_sim):\n",
    "    idx = movies[movies['Movie Title'] == movie_title].index[0]\n",
    "    sim_scores = list(enumerate(cosine_sim[idx]))\n",
    "    sim_scores = sorted(sim_scores, key=lambda x: x[1], reverse=True)\n",
    "    sim_scores = sim_scores[1:6]  # Top 5 recommendations\n",
    "    movie_indices = [i[0] for i in sim_scores]\n",
    "    return movies['Movie Title'].iloc[movie_indices]\n",
    "\n",
    "print(recommend(\"Avatar 2\"))"
   ]
  },
  {
   "cell_type": "markdown",
   "id": "593ba35e-a774-4237-94b9-e4c9e706218e",
   "metadata": {},
   "source": [
    "# Collaborative Filtering >"
   ]
  },
  {
   "cell_type": "code",
   "execution_count": null,
   "id": "ae22d460-0112-46d7-a01a-deab6459b2a7",
   "metadata": {},
   "outputs": [],
   "source": [
    "import pandas as pd\n",
    "from sklearn.decomposition import TruncatedSVD\n",
    "\n",
    "# Load ratings dataset\n",
    "ratings = pd.read_csv(\"ratings.csv\")  # userId, movieId, rating\n",
    "movies = pd.read_csv(\"movies.csv\")\n",
    "\n",
    "# Create user-movie rating matrix\n",
    "ratings_matrix = ratings.pivot(index='userId', columns='movieId', values='rating').fillna(0)\n",
    "\n",
    "# Apply SVD\n",
    "svd = TruncatedSVD(n_components=20, random_state=42)\n",
    "matrix_svd = svd.fit_transform(ratings_matrix)\n",
    "\n",
    "# Reconstruct approx ratings\n",
    "approx_ratings = svd.inverse_transform(matrix_svd)\n",
    "pred_ratings = pd.DataFrame(approx_ratings, index=ratings_matrix.index, columns=ratings_matrix.columns)\n",
    "\n",
    "# Recommendation function\n",
    "def recommend_movies(user_id, n=5):\n",
    "    user_ratings = pred_ratings.loc[user_id].sort_values(ascending=False)\n",
    "    top_movies = user_ratings.head(n).index\n",
    "    return movies[movies['movieId'].isin(top_movies)]['title']\n",
    "\n",
    "print(recommend_movies(user_id=1, n=5))\n"
   ]
  }
 ],
 "metadata": {
  "kernelspec": {
   "display_name": "Python 3 (ipykernel)",
   "language": "python",
   "name": "python3"
  },
  "language_info": {
   "codemirror_mode": {
    "name": "ipython",
    "version": 3
   },
   "file_extension": ".py",
   "mimetype": "text/x-python",
   "name": "python",
   "nbconvert_exporter": "python",
   "pygments_lexer": "ipython3",
   "version": "3.9.2"
  }
 },
 "nbformat": 4,
 "nbformat_minor": 5
}
